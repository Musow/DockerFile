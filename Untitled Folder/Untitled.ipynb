{
 "cells": [
  {
   "cell_type": "code",
   "execution_count": null,
   "id": "909aaf8c",
   "metadata": {},
   "outputs": [],
   "source": [
    "print(\"Hello World\")"
   ]
  },
  {
   "cell_type": "code",
   "execution_count": null,
   "id": "f039e43c",
   "metadata": {},
   "outputs": [],
   "source": [
    "%%bash\n",
    "\n",
    "apt install git -y"
   ]
  },
  {
   "cell_type": "code",
   "execution_count": null,
   "id": "44b74f58",
   "metadata": {},
   "outputs": [],
   "source": [
    "%%bash\n",
    "\n",
    "wget https://github.com/WongKinYiu/yolov7/releases/download/v0.1/yolov7-w6-pose.pt"
   ]
  },
  {
   "cell_type": "code",
   "execution_count": 1,
   "id": "57bc3914",
   "metadata": {},
   "outputs": [
    {
     "name": "stdout",
     "output_type": "stream",
     "text": [
      "Collecting matplotlib>=3.2.2\n",
      "  Using cached matplotlib-3.6.0-cp310-cp310-manylinux_2_17_x86_64.manylinux2014_x86_64.whl (11.8 MB)\n",
      "Requirement already satisfied: numpy>=1.18.5 in /opt/miniconda3/envs/yolo/lib/python3.10/site-packages (from -r ./yolov7/requirements.txt (line 5)) (1.23.1)\n",
      "Collecting opencv-python>=4.1.2\n",
      "  Using cached opencv_python-4.6.0.66-cp36-abi3-manylinux_2_17_x86_64.manylinux2014_x86_64.whl (60.9 MB)\n",
      "Collecting Pillow\n",
      "  Using cached Pillow-9.2.0-cp310-cp310-manylinux_2_28_x86_64.whl (3.2 MB)\n",
      "Collecting PyYAML>=5.3.1\n",
      "  Using cached PyYAML-6.0-cp310-cp310-manylinux_2_5_x86_64.manylinux1_x86_64.manylinux_2_12_x86_64.manylinux2010_x86_64.whl (682 kB)\n",
      "Collecting scipy>=1.4.1\n",
      "  Using cached scipy-1.9.1-cp310-cp310-manylinux_2_17_x86_64.manylinux2014_x86_64.whl (43.9 MB)\n",
      "Collecting torch>=1.7.0\n",
      "  Downloading torch-1.12.1-cp310-cp310-manylinux1_x86_64.whl (776.3 MB)\n",
      "\u001b[2K     \u001b[90m━━━━━━━━━━━━━━━━━━━━━━━━━━━━━━━━━━━━━━━━\u001b[0m \u001b[32m776.3/776.3 MB\u001b[0m \u001b[31m?\u001b[0m eta \u001b[36m0:00:00\u001b[0m[36m0:00:01\u001b[0m00:04\u001b[0m\n",
      "\u001b[?25hCollecting torchvision>=0.8.1\n",
      "  Downloading torchvision-0.13.1-cp310-cp310-manylinux1_x86_64.whl (19.1 MB)\n",
      "\u001b[2K     \u001b[90m━━━━━━━━━━━━━━━━━━━━━━━━━━━━━━━━━━━━━━━━\u001b[0m \u001b[32m19.1/19.1 MB\u001b[0m \u001b[31m2.6 MB/s\u001b[0m eta \u001b[36m0:00:00\u001b[0m00:01\u001b[0m00:01\u001b[0m\n",
      "\u001b[?25hCollecting tqdm>=4.41.0\n",
      "  Using cached tqdm-4.64.1-py2.py3-none-any.whl (78 kB)\n",
      "Collecting tensorboard>=2.4.1\n",
      "  Using cached tensorboard-2.10.0-py3-none-any.whl (5.9 MB)\n",
      "Collecting seaborn>=0.11.0\n",
      "  Using cached seaborn-0.12.0-py3-none-any.whl (285 kB)\n",
      "Collecting pandas\n",
      "  Using cached pandas-1.5.0-cp310-cp310-manylinux_2_17_x86_64.manylinux2014_x86_64.whl (12.1 MB)\n",
      "\u001b[31mERROR: Ignored the following versions that require a different python version: 1.6.2 Requires-Python >=3.7,<3.10; 1.6.3 Requires-Python >=3.7,<3.10; 1.7.0 Requires-Python >=3.7,<3.10; 1.7.0rc1 Requires-Python >=3.7,<3.10; 1.7.0rc2 Requires-Python >=3.7,<3.10; 1.7.1 Requires-Python >=3.7,<3.10\u001b[0m\u001b[31m\n",
      "\u001b[0m\u001b[31mERROR: Could not find a version that satisfies the requirement onnxruntime==1.10.0 (from versions: 1.12.0, 1.12.1)\u001b[0m\u001b[31m\n",
      "\u001b[0m\u001b[31mERROR: No matching distribution found for onnxruntime==1.10.0\u001b[0m\u001b[31m\n",
      "\u001b[0mNote: you may need to restart the kernel to use updated packages.\n"
     ]
    }
   ],
   "source": [
    "pip install -r ./yolov7/requirements.txt "
   ]
  },
  {
   "cell_type": "code",
   "execution_count": null,
   "id": "ef316827",
   "metadata": {},
   "outputs": [],
   "source": [
    "cd ./yolov7"
   ]
  },
  {
   "cell_type": "code",
   "execution_count": null,
   "id": "2c4da3c0",
   "metadata": {},
   "outputs": [],
   "source": [
    "!mamba install -y opencv"
   ]
  },
  {
   "cell_type": "code",
   "execution_count": null,
   "id": "84440c71",
   "metadata": {},
   "outputs": [],
   "source": [
    "!apt install -y libgl1"
   ]
  },
  {
   "cell_type": "code",
   "execution_count": null,
   "id": "89da8adb",
   "metadata": {},
   "outputs": [],
   "source": [
    "%%bash\n",
    "\n",
    "wget https://developer.download.nvidia.com/compute/cuda/repos/ubuntu2204/x86_64/cuda-keyring_1.0-1_all.deb\n",
    "dpkg -i cuda-keyring_1.0-1_all.deb\n",
    "apt-get update\n",
    "apt-get -y install cuda"
   ]
  },
  {
   "cell_type": "code",
   "execution_count": null,
   "id": "d5dd4ed7",
   "metadata": {},
   "outputs": [],
   "source": [
    "!lsmod | grep nvidia"
   ]
  },
  {
   "cell_type": "code",
   "execution_count": null,
   "id": "60ce58fb",
   "metadata": {},
   "outputs": [],
   "source": []
  },
  {
   "cell_type": "code",
   "execution_count": null,
   "id": "75a6a773",
   "metadata": {},
   "outputs": [],
   "source": [
    "!python detect.py --weights yolov7-w6-pose.pt --kpt-label --hide-label --hide-conf --source ./yolotestfoto3.jpg"
   ]
  }
 ],
 "metadata": {
  "kernelspec": {
   "display_name": "Python 3 (ipykernel)",
   "language": "python",
   "name": "python3"
  },
  "language_info": {
   "codemirror_mode": {
    "name": "ipython",
    "version": 3
   },
   "file_extension": ".py",
   "mimetype": "text/x-python",
   "name": "python",
   "nbconvert_exporter": "python",
   "pygments_lexer": "ipython3",
   "version": "3.10.4"
  }
 },
 "nbformat": 4,
 "nbformat_minor": 5
}
